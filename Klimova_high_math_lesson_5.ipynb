{
 "cells": [
  {
   "cell_type": "markdown",
   "metadata": {},
   "source": [
    "### Элементы теории вероятностей"
   ]
  },
  {
   "cell_type": "code",
   "execution_count": 1,
   "metadata": {},
   "outputs": [],
   "source": [
    "import numpy as np\n",
    "import random \n",
    "import matplotlib.pyplot as plt\n",
    "import math\n",
    "import itertools\n",
    "%matplotlib inline"
   ]
  },
  {
   "cell_type": "markdown",
   "metadata": {},
   "source": [
    "1. Напишите код, моделирующий выпадение поля в рулетке (с учетом поля зеро)."
   ]
  },
  {
   "cell_type": "code",
   "execution_count": 2,
   "metadata": {},
   "outputs": [
    {
     "name": "stdout",
     "output_type": "stream",
     "text": [
      "Сколько раз будем крутить рулетку? 5\n"
     ]
    }
   ],
   "source": [
    "number = int(input(\"Сколько раз будем крутить рулетку? \"))"
   ]
  },
  {
   "cell_type": "code",
   "execution_count": 3,
   "metadata": {},
   "outputs": [
    {
     "name": "stdout",
     "output_type": "stream",
     "text": [
      "Ваши ставки: 23\n",
      "Выпало число 35\n",
      "\n",
      "Ваши ставки: 15\n",
      "Выпало число 27\n",
      "\n",
      "Ваши ставки: 17\n",
      "Выпало число 18\n",
      "\n",
      "Ваши ставки: 9\n",
      "Выпало число 4\n",
      "\n",
      "Ваши ставки: 21\n",
      "Выпало число 35\n",
      "\n",
      "Сегодня выпадали следующие числа: [35, 27, 18, 4, 35]\n"
     ]
    }
   ],
   "source": [
    "x = list()\n",
    "for iteration in range(number):\n",
    "    input('Ваши ставки: ')\n",
    "    x.append(np.random.randint(0, 36))\n",
    "    print('Выпало число', x[-1])\n",
    "    print()\n",
    "    \n",
    "print('Сегодня выпадали следующие числа:', x)"
   ]
  },
  {
   "cell_type": "markdown",
   "metadata": {},
   "source": [
    "2. 1) Напишите код, проверяющий любую из теорем сложения или умножения вероятности на примере рулетки или подбрасывания монетки."
   ]
  },
  {
   "cell_type": "markdown",
   "metadata": {},
   "source": [
    "Задача: Найти вероятность выпадения 2 или 5 очков при подбрасывании игральной кости, на гранях которой имеются соответственно 1,2,3,4,5 и 6 очков. "
   ]
  },
  {
   "cell_type": "code",
   "execution_count": 4,
   "metadata": {},
   "outputs": [
    {
     "data": {
      "text/plain": [
       "0.3333333333333333"
      ]
     },
     "execution_count": 4,
     "metadata": {},
     "output_type": "execute_result"
    }
   ],
   "source": [
    "prob_sum = 1 / 6 + 1 / 6\n",
    "prob_sum"
   ]
  },
  {
   "cell_type": "code",
   "execution_count": 5,
   "metadata": {},
   "outputs": [
    {
     "data": {
      "text/plain": [
       "0.3335"
      ]
     },
     "execution_count": 5,
     "metadata": {},
     "output_type": "execute_result"
    }
   ],
   "source": [
    "n_model = 10000\n",
    "success = 0\n",
    "for i in range(n_model):\n",
    "    number = np.random.randint(0, 6)\n",
    "    if number == 2 or number == 5:\n",
    "        success += 1\n",
    "        \n",
    "prob_sum_in_modeling = success / n_model\n",
    "prob_sum_in_modeling"
   ]
  },
  {
   "cell_type": "markdown",
   "metadata": {},
   "source": [
    "Вероятности сходятся, теорема сложения верна"
   ]
  },
  {
   "cell_type": "markdown",
   "metadata": {},
   "source": [
    "Задача: Найти вероятность того, что при двух подбрасываниях той же самой игральной кости сначала выпадет 2, а затем 5."
   ]
  },
  {
   "cell_type": "code",
   "execution_count": 6,
   "metadata": {},
   "outputs": [
    {
     "data": {
      "text/plain": [
       "0.027777777777777776"
      ]
     },
     "execution_count": 6,
     "metadata": {},
     "output_type": "execute_result"
    }
   ],
   "source": [
    "prob_mult = 1 / 6 * 1 / 6\n",
    "prob_mult"
   ]
  },
  {
   "cell_type": "code",
   "execution_count": 7,
   "metadata": {},
   "outputs": [
    {
     "data": {
      "text/plain": [
       "0.0267"
      ]
     },
     "execution_count": 7,
     "metadata": {},
     "output_type": "execute_result"
    }
   ],
   "source": [
    "success = 0\n",
    "for i in range(n_model):\n",
    "    number_1 = np.random.randint(0, 6)\n",
    "    number_2 = np.random.randint(0, 6)\n",
    "    if number_1 == 2 and number_2 == 5:\n",
    "        success += 1\n",
    "        \n",
    "prob_mult_in_modeling = success / n_model\n",
    "prob_mult_in_modeling"
   ]
  },
  {
   "cell_type": "markdown",
   "metadata": {},
   "source": [
    "Вероятности сходятся, теорема умножения верна"
   ]
  },
  {
   "cell_type": "markdown",
   "metadata": {},
   "source": [
    "2. 2) Сгенерируйте десять выборок случайных чисел х0, …, х9 и постройте гистограмму распределения случайной суммы  х0+ …+ х 9. "
   ]
  },
  {
   "cell_type": "code",
   "execution_count": 8,
   "metadata": {},
   "outputs": [],
   "source": [
    "number_of_samples = 10\n",
    "x_sum = []\n",
    "for num in range(number_of_samples):\n",
    "    x_i = np.random.rand(10)\n",
    "    x_sum.append(sum(x_i))"
   ]
  },
  {
   "cell_type": "code",
   "execution_count": 9,
   "metadata": {},
   "outputs": [
    {
     "data": {
      "text/plain": [
       "(array([1., 1., 0., 1., 1., 2., 0., 1., 0., 3.]),\n",
       " array([3.6807792 , 3.86143099, 4.04208279, 4.22273458, 4.40338638,\n",
       "        4.58403817, 4.76468997, 4.94534176, 5.12599355, 5.30664535,\n",
       "        5.48729714]),\n",
       " <BarContainer object of 10 artists>)"
      ]
     },
     "execution_count": 9,
     "metadata": {},
     "output_type": "execute_result"
    },
    {
     "data": {
      "image/png": "[encoded data removed]",
      "text/plain": [
       "<Figure size 432x288 with 1 Axes>"
      ]
     },
     "metadata": {
      "needs_background": "light"
     },
     "output_type": "display_data"
    }
   ],
   "source": [
    "plt.hist(x_sum)"
   ]
  },
  {
   "cell_type": "markdown",
   "metadata": {},
   "source": [
    "3. 1) Дополните код Монте-Карло последовательности независимых испытаний расчетом соответствующих вероятностей (через биномиальное распределение) и сравните результаты."
   ]
  },
  {
   "cell_type": "code",
   "execution_count": 10,
   "metadata": {},
   "outputs": [
    {
     "name": "stdout",
     "output_type": "stream",
     "text": [
      "28 100 0.28\n"
     ]
    }
   ],
   "source": [
    "k, n = 0, 100\n",
    "a = np.random.randint(0, 2, n)\n",
    "b = np.random.randint(0, 2, n)\n",
    "c = np.random.randint(0, 2, n)\n",
    "d = np.random.randint(0, 2, n)\n",
    "x = a + b + c + d\n",
    "for i in range(0, n):\n",
    "    if x[i] == 1:\n",
    "        k = k + 1\n",
    "print(k, n, k / n)"
   ]
  },
  {
   "cell_type": "code",
   "execution_count": 11,
   "metadata": {},
   "outputs": [],
   "source": [
    "def func_C_n_k(n, k):\n",
    "    return math.factorial(n) / (math.factorial(k) * math.factorial(n - k))"
   ]
  },
  {
   "cell_type": "code",
   "execution_count": 12,
   "metadata": {},
   "outputs": [
    {
     "data": {
      "text/plain": [
       "(28, 100)"
      ]
     },
     "execution_count": 12,
     "metadata": {},
     "output_type": "execute_result"
    }
   ],
   "source": [
    "k, n"
   ]
  },
  {
   "cell_type": "code",
   "execution_count": 13,
   "metadata": {},
   "outputs": [
    {
     "data": {
      "text/plain": [
       "(0.25, 0.75)"
      ]
     },
     "execution_count": 13,
     "metadata": {},
     "output_type": "execute_result"
    }
   ],
   "source": [
    "p = 1 / 4\n",
    "q = 1 - p\n",
    "p, q"
   ]
  },
  {
   "cell_type": "code",
   "execution_count": 14,
   "metadata": {},
   "outputs": [],
   "source": [
    "def binom(n, k, p, q):\n",
    "    return func_C_n_k(n, k) * math.pow(p, k) * math.pow(q, n - k)"
   ]
  },
  {
   "cell_type": "code",
   "execution_count": 15,
   "metadata": {},
   "outputs": [
    {
     "data": {
      "text/plain": [
       "0.07008065602310466"
      ]
     },
     "execution_count": 15,
     "metadata": {},
     "output_type": "execute_result"
    }
   ],
   "source": [
    "binom(n, k, p, q)"
   ]
  },
  {
   "cell_type": "markdown",
   "metadata": {},
   "source": [
    "3. 2) Повторите расчеты биномиальных коэффициентов и вероятностей k успехов в последовательности из n независимых испытаний, взяв другие значения n и k."
   ]
  },
  {
   "cell_type": "code",
   "execution_count": 16,
   "metadata": {},
   "outputs": [],
   "source": [
    "n = 4\n",
    "k = [0, 1, 2, 3, 4]\n",
    "p = 0.2\n",
    "q = 1 - p"
   ]
  },
  {
   "cell_type": "code",
   "execution_count": 17,
   "metadata": {},
   "outputs": [
    {
     "name": "stdout",
     "output_type": "stream",
     "text": [
      "n = 4 k = 0 p = 0.2 q = 0.8\n",
      "binom:  0.4096000000000001\n",
      "\n",
      "n = 4 k = 1 p = 0.2 q = 0.8\n",
      "binom:  0.40960000000000013\n",
      "\n",
      "n = 4 k = 2 p = 0.2 q = 0.8\n",
      "binom:  0.15360000000000007\n",
      "\n",
      "n = 4 k = 3 p = 0.2 q = 0.8\n",
      "binom:  0.025600000000000008\n",
      "\n",
      "n = 4 k = 4 p = 0.2 q = 0.8\n",
      "binom:  0.0016000000000000003\n",
      "\n"
     ]
    }
   ],
   "source": [
    "for k_value in k:\n",
    "    print('n =', n, 'k =', k_value, 'p =', p, 'q =', q)\n",
    "    print('binom: ', binom(n, k_value, p, q))\n",
    "    print()"
   ]
  },
  {
   "cell_type": "markdown",
   "metadata": {},
   "source": [
    "4. (не обязательно, но желательно) Из урока по комбинаторике повторите расчеты, сгенерировав возможные варианты перестановок для других значений n и k"
   ]
  },
  {
   "cell_type": "code",
   "execution_count": 18,
   "metadata": {},
   "outputs": [
    {
     "data": {
      "text/plain": [
       "5040"
      ]
     },
     "execution_count": 18,
     "metadata": {},
     "output_type": "execute_result"
    }
   ],
   "source": [
    "count = 0\n",
    "for p in itertools.permutations('0123456', 6):\n",
    "    count += 1\n",
    "count"
   ]
  },
  {
   "cell_type": "code",
   "execution_count": 19,
   "metadata": {},
   "outputs": [
    {
     "data": {
      "text/plain": [
       "20"
      ]
     },
     "execution_count": 19,
     "metadata": {},
     "output_type": "execute_result"
    }
   ],
   "source": [
    "count = 0\n",
    "for p in itertools.permutations([1, 2, 3, 5, 6], 2):\n",
    "    count += 1\n",
    "count"
   ]
  },
  {
   "cell_type": "code",
   "execution_count": 20,
   "metadata": {},
   "outputs": [
    {
     "data": {
      "text/plain": [
       "720"
      ]
     },
     "execution_count": 20,
     "metadata": {},
     "output_type": "execute_result"
    }
   ],
   "source": [
    "count = 0\n",
    "for p in itertools.permutations('helloworld', 3):\n",
    "    count += 1\n",
    "count"
   ]
  },
  {
   "cell_type": "markdown",
   "metadata": {},
   "source": [
    "5. (не обязательно) Дополните код расчетом коэффициента корреляции x и y по формуле"
   ]
  },
  {
   "cell_type": "code",
   "execution_count": 21,
   "metadata": {},
   "outputs": [
    {
     "data": {
      "image/png": "[encoded data removed]",
      "text/plain": [
       "<Figure size 432x288 with 1 Axes>"
      ]
     },
     "metadata": {
      "needs_background": "light"
     },
     "output_type": "display_data"
    },
    {
     "name": "stdout",
     "output_type": "stream",
     "text": [
      "Коэффициент корреляции при r = 0.1, посчитанный при помощи библиотек: 0.9940105492531371\n",
      "Коэффициент корреляции при r = 0.1, посчитанный при помощи формулы: 0.9940105492531369\n",
      "\n",
      "Коэффициент корреляции при r = 0.9, посчитанный при помощи библиотек: 0.9940105492531371\n",
      "Коэффициент корреляции при r = 0.9, посчитанный при помощи формулы: -0.026158222446061804\n"
     ]
    }
   ],
   "source": [
    "n = 100\n",
    "r = [0.9, 0.1]\n",
    "x = np.random.rand(n)\n",
    "y_1 = r[0] * x + (1 - r[0]) * np.random.rand(n)\n",
    "y_2 = r[1] * x + (1 - r[1]) * np.random.rand(n)\n",
    "plt.plot(x, y_1, 'o', label='r = 0.9')\n",
    "plt.plot(x, y_2, 'o', label='r = 0.1')\n",
    "plt.xlabel('x')\n",
    "plt.ylabel('y')\n",
    "plt.legend()\n",
    "plt.show()\n",
    "print('Коэффициент корреляции при r = 0.1, посчитанный при помощи библиотек:', np.corrcoef(x, y_1)[0, 1])\n",
    "c_for_formula_1 = np.sum((x - x.mean()) * (y_1 - y_1.mean())) / (math.sqrt((np.sum((x - x.mean()) ** 2)) * (np.sum((y_1 - y_1.mean()) ** 2))))\n",
    "print('Коэффициент корреляции при r = 0.1, посчитанный при помощи формулы:', c_for_formula_1)\n",
    "print()\n",
    "print('Коэффициент корреляции при r = 0.9, посчитанный при помощи библиотек:', np.corrcoef(x, y_1)[0, 1])\n",
    "c_for_formula_2 = np.sum((x - x.mean()) * (y_2 - y_2.mean())) / (math.sqrt((np.sum((x - x.mean()) ** 2)) * (np.sum((y_2 - y_2.mean()) ** 2))))\n",
    "print('Коэффициент корреляции при r = 0.9, посчитанный при помощи формулы:', c_for_formula_2)"
   ]
  }
 ],
 "metadata": {
  "kernelspec": {
   "display_name": "Python 3",
   "language": "python",
   "name": "python3"
  },
  "language_info": {
   "codemirror_mode": {
    "name": "ipython",
    "version": 3
   },
   "file_extension": ".py",
   "mimetype": "text/x-python",
   "name": "python",
   "nbconvert_exporter": "python",
   "pygments_lexer": "ipython3",
   "version": "3.8.5"
  }
 },
 "nbformat": 4,
 "nbformat_minor": 4
}
